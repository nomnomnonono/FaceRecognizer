{
  "nbformat": 4,
  "nbformat_minor": 0,
  "metadata": {
    "colab": {
      "name": "recognizer.ipynb",
      "provenance": [],
      "collapsed_sections": [],
      "mount_file_id": "1Woz_9Fui1WMKAF2pGpDcrb0celeuZmy3",
      "authorship_tag": "ABX9TyMYvH4rpa1rDBGw8qdUGdPQ",
      "include_colab_link": true
    },
    "kernelspec": {
      "name": "python3",
      "display_name": "Python 3"
    },
    "language_info": {
      "name": "python"
    },
    "accelerator": "GPU"
  },
  "cells": [
    {
      "cell_type": "markdown",
      "metadata": {
        "id": "view-in-github",
        "colab_type": "text"
      },
      "source": [
        "<a href=\"https://colab.research.google.com/github/nomnomnonono/FaceRecognizer/blob/main/recognizer/recognizer.ipynb\" target=\"_parent\"><img src=\"https://colab.research.google.com/assets/colab-badge.svg\" alt=\"Open In Colab\"/></a>"
      ]
    },
    {
      "cell_type": "code",
      "metadata": {
        "id": "nzKtx3iFap4O"
      },
      "source": [
        "from keras.models import Model\n",
        "from keras.layers import Dense,Input,GlobalMaxPooling2D,Dropout\n",
        "from keras.applications.vgg16 import VGG16\n",
        "from keras.preprocessing.image import ImageDataGenerator\n",
        "from keras.callbacks import ModelCheckpoint"
      ],
      "execution_count": 30,
      "outputs": []
    },
    {
      "cell_type": "code",
      "metadata": {
        "id": "6tnNV_4Vxnn_"
      },
      "source": [
        "N_TRAIN = 325\n",
        "N_VALID = 81\n",
        "BATCH_SIZE = 8\n",
        "IMAGE_SIZE = 224\n",
        "N_CLASS = 3"
      ],
      "execution_count": 31,
      "outputs": []
    },
    {
      "cell_type": "code",
      "metadata": {
        "colab": {
          "base_uri": "https://localhost:8080/"
        },
        "id": "nHKCmsxXFlLh",
        "outputId": "9aab27e0-3945-4a93-c87a-707691d41a71"
      },
      "source": [
        "train_datagen = ImageDataGenerator(\n",
        "    rescale = 1.0 / 255,\n",
        "    shear_range = 0.2,\n",
        "    zoom_range = 0.2,\n",
        "    rotation_range = 10,\n",
        "    horizontal_flip = True\n",
        ")\n",
        "\n",
        "valid_datagen = ImageDataGenerator(\n",
        "    rescale = 1.0 / 255\n",
        ")\n",
        "\n",
        "train_generator = train_datagen.flow_from_directory(\n",
        "        '/content/drive/MyDrive/Colab Notebooks/face/train',\n",
        "        target_size=(IMAGE_SIZE, IMAGE_SIZE),\n",
        "        batch_size=BATCH_SIZE,\n",
        "        class_mode='categorical')\n",
        "\n",
        "valid_generator = valid_datagen.flow_from_directory(\n",
        "        '/content/drive/MyDrive/Colab Notebooks/face/validation',\n",
        "        target_size=(IMAGE_SIZE, IMAGE_SIZE),\n",
        "        batch_size=BATCH_SIZE,\n",
        "        class_mode='categorical')"
      ],
      "execution_count": 32,
      "outputs": [
        {
          "output_type": "stream",
          "text": [
            "Found 325 images belonging to 3 classes.\n",
            "Found 81 images belonging to 3 classes.\n"
          ],
          "name": "stdout"
        }
      ]
    },
    {
      "cell_type": "code",
      "metadata": {
        "colab": {
          "base_uri": "https://localhost:8080/"
        },
        "id": "0fjEEHxvFELA",
        "outputId": "43dc1909-a747-497a-f019-91d1020689c0"
      },
      "source": [
        "input_tensor = Input(shape=(IMAGE_SIZE, IMAGE_SIZE, 3))\n",
        "base_model = VGG16(weights='imagenet', include_top=False, input_tensor=input_tensor)\n",
        "\n",
        "x = base_model.output\n",
        "x = GlobalMaxPooling2D()(x)\n",
        "x = Dropout(0.3)(x)\n",
        "x = Dense(1024, activation='relu')(x)\n",
        "x = Dense(2048, activation='relu')(x)\n",
        "x = Dropout(0.3)(x)\n",
        "x = Dense(1024, activation='relu')(x)\n",
        "pred = Dense(N_CLASS, activation='softmax')(x)\n",
        "model = Model(inputs=base_model.input, outputs=pred)\n",
        "\n",
        "for layer in base_model.layers[:15]:\n",
        "  layer.trainable = False\n",
        "\n",
        "model.compile(optimizer='SGD', loss='categorical_crossentropy', metrics=['accuracy'])\n",
        "model.summary()"
      ],
      "execution_count": 33,
      "outputs": [
        {
          "output_type": "stream",
          "text": [
            "Model: \"model_8\"\n",
            "_________________________________________________________________\n",
            "Layer (type)                 Output Shape              Param #   \n",
            "=================================================================\n",
            "input_9 (InputLayer)         [(None, 224, 224, 3)]     0         \n",
            "_________________________________________________________________\n",
            "block1_conv1 (Conv2D)        (None, 224, 224, 64)      1792      \n",
            "_________________________________________________________________\n",
            "block1_conv2 (Conv2D)        (None, 224, 224, 64)      36928     \n",
            "_________________________________________________________________\n",
            "block1_pool (MaxPooling2D)   (None, 112, 112, 64)      0         \n",
            "_________________________________________________________________\n",
            "block2_conv1 (Conv2D)        (None, 112, 112, 128)     73856     \n",
            "_________________________________________________________________\n",
            "block2_conv2 (Conv2D)        (None, 112, 112, 128)     147584    \n",
            "_________________________________________________________________\n",
            "block2_pool (MaxPooling2D)   (None, 56, 56, 128)       0         \n",
            "_________________________________________________________________\n",
            "block3_conv1 (Conv2D)        (None, 56, 56, 256)       295168    \n",
            "_________________________________________________________________\n",
            "block3_conv2 (Conv2D)        (None, 56, 56, 256)       590080    \n",
            "_________________________________________________________________\n",
            "block3_conv3 (Conv2D)        (None, 56, 56, 256)       590080    \n",
            "_________________________________________________________________\n",
            "block3_pool (MaxPooling2D)   (None, 28, 28, 256)       0         \n",
            "_________________________________________________________________\n",
            "block4_conv1 (Conv2D)        (None, 28, 28, 512)       1180160   \n",
            "_________________________________________________________________\n",
            "block4_conv2 (Conv2D)        (None, 28, 28, 512)       2359808   \n",
            "_________________________________________________________________\n",
            "block4_conv3 (Conv2D)        (None, 28, 28, 512)       2359808   \n",
            "_________________________________________________________________\n",
            "block4_pool (MaxPooling2D)   (None, 14, 14, 512)       0         \n",
            "_________________________________________________________________\n",
            "block5_conv1 (Conv2D)        (None, 14, 14, 512)       2359808   \n",
            "_________________________________________________________________\n",
            "block5_conv2 (Conv2D)        (None, 14, 14, 512)       2359808   \n",
            "_________________________________________________________________\n",
            "block5_conv3 (Conv2D)        (None, 14, 14, 512)       2359808   \n",
            "_________________________________________________________________\n",
            "block5_pool (MaxPooling2D)   (None, 7, 7, 512)         0         \n",
            "_________________________________________________________________\n",
            "global_max_pooling2d_8 (Glob (None, 512)               0         \n",
            "_________________________________________________________________\n",
            "dropout_11 (Dropout)         (None, 512)               0         \n",
            "_________________________________________________________________\n",
            "dense_28 (Dense)             (None, 1024)              525312    \n",
            "_________________________________________________________________\n",
            "dense_29 (Dense)             (None, 2048)              2099200   \n",
            "_________________________________________________________________\n",
            "dropout_12 (Dropout)         (None, 2048)              0         \n",
            "_________________________________________________________________\n",
            "dense_30 (Dense)             (None, 1024)              2098176   \n",
            "_________________________________________________________________\n",
            "dense_31 (Dense)             (None, 3)                 3075      \n",
            "=================================================================\n",
            "Total params: 19,440,451\n",
            "Trainable params: 11,805,187\n",
            "Non-trainable params: 7,635,264\n",
            "_________________________________________________________________\n"
          ],
          "name": "stdout"
        }
      ]
    },
    {
      "cell_type": "code",
      "metadata": {
        "id": "gsbmE2pdGDkJ"
      },
      "source": [
        "cp = ModelCheckpoint('/content/drive/MyDrive/Colab Notebooks/face/face.hdf5', monitor=\"val_loss\", verbose=1,\n",
        "                     save_best_only=True, save_weights_only=True)"
      ],
      "execution_count": 34,
      "outputs": []
    },
    {
      "cell_type": "code",
      "metadata": {
        "colab": {
          "base_uri": "https://localhost:8080/"
        },
        "id": "AtTrGQ_mMqUl",
        "outputId": "a8156150-d057-4dd5-dde3-1c50d941a239"
      },
      "source": [
        "history = model.fit_generator(train_generator,\n",
        "                              steps_per_epoch=N_TRAIN//BATCH_SIZE,\n",
        "                              epochs=15,\n",
        "                              callbacks=[cp],\n",
        "                              validation_data=valid_generator,\n",
        "                              validation_steps=N_VALID//BATCH_SIZE\n",
        "                              )"
      ],
      "execution_count": 29,
      "outputs": [
        {
          "output_type": "stream",
          "text": [
            "/usr/local/lib/python3.7/dist-packages/keras/engine/training.py:1972: UserWarning: `Model.fit_generator` is deprecated and will be removed in a future version. Please use `Model.fit`, which supports generators.\n",
            "  warnings.warn('`Model.fit_generator` is deprecated and '\n"
          ],
          "name": "stderr"
        },
        {
          "output_type": "stream",
          "text": [
            "Epoch 1/15\n",
            "40/40 [==============================] - 13s 324ms/step - loss: 1.1192 - accuracy: 0.4290 - val_loss: 1.0153 - val_accuracy: 0.5250\n",
            "\n",
            "Epoch 00001: val_loss improved from inf to 1.01530, saving model to /content/drive/MyDrive/Colab Notebooks/face/face.hdf5\n",
            "Epoch 2/15\n",
            "40/40 [==============================] - 13s 315ms/step - loss: 0.9004 - accuracy: 0.5773 - val_loss: 0.8577 - val_accuracy: 0.6500\n",
            "\n",
            "Epoch 00002: val_loss improved from 1.01530 to 0.85775, saving model to /content/drive/MyDrive/Colab Notebooks/face/face.hdf5\n",
            "Epoch 3/15\n",
            "40/40 [==============================] - 13s 316ms/step - loss: 0.8304 - accuracy: 0.6562 - val_loss: 0.9132 - val_accuracy: 0.6250\n",
            "\n",
            "Epoch 00003: val_loss did not improve from 0.85775\n",
            "Epoch 4/15\n",
            "40/40 [==============================] - 12s 312ms/step - loss: 0.6520 - accuracy: 0.7035 - val_loss: 0.8177 - val_accuracy: 0.6625\n",
            "\n",
            "Epoch 00004: val_loss improved from 0.85775 to 0.81775, saving model to /content/drive/MyDrive/Colab Notebooks/face/face.hdf5\n",
            "Epoch 5/15\n",
            "40/40 [==============================] - 13s 321ms/step - loss: 0.6443 - accuracy: 0.7161 - val_loss: 0.8526 - val_accuracy: 0.6500\n",
            "\n",
            "Epoch 00005: val_loss did not improve from 0.81775\n",
            "Epoch 6/15\n",
            "40/40 [==============================] - 12s 306ms/step - loss: 0.6494 - accuracy: 0.7350 - val_loss: 0.6407 - val_accuracy: 0.7750\n",
            "\n",
            "Epoch 00006: val_loss improved from 0.81775 to 0.64072, saving model to /content/drive/MyDrive/Colab Notebooks/face/face.hdf5\n",
            "Epoch 7/15\n",
            "40/40 [==============================] - 13s 321ms/step - loss: 0.5101 - accuracy: 0.8139 - val_loss: 0.5762 - val_accuracy: 0.7500\n",
            "\n",
            "Epoch 00007: val_loss improved from 0.64072 to 0.57622, saving model to /content/drive/MyDrive/Colab Notebooks/face/face.hdf5\n",
            "Epoch 8/15\n",
            "40/40 [==============================] - 13s 316ms/step - loss: 0.4210 - accuracy: 0.8391 - val_loss: 0.5073 - val_accuracy: 0.8125\n",
            "\n",
            "Epoch 00008: val_loss improved from 0.57622 to 0.50734, saving model to /content/drive/MyDrive/Colab Notebooks/face/face.hdf5\n",
            "Epoch 9/15\n",
            "40/40 [==============================] - 13s 321ms/step - loss: 0.3144 - accuracy: 0.8738 - val_loss: 0.4886 - val_accuracy: 0.8000\n",
            "\n",
            "Epoch 00009: val_loss improved from 0.50734 to 0.48858, saving model to /content/drive/MyDrive/Colab Notebooks/face/face.hdf5\n",
            "Epoch 10/15\n",
            "40/40 [==============================] - 13s 320ms/step - loss: 0.3083 - accuracy: 0.9148 - val_loss: 0.5178 - val_accuracy: 0.8125\n",
            "\n",
            "Epoch 00010: val_loss did not improve from 0.48858\n",
            "Epoch 11/15\n",
            "40/40 [==============================] - 12s 312ms/step - loss: 0.2070 - accuracy: 0.9180 - val_loss: 0.5146 - val_accuracy: 0.8500\n",
            "\n",
            "Epoch 00011: val_loss did not improve from 0.48858\n",
            "Epoch 12/15\n",
            "40/40 [==============================] - 12s 305ms/step - loss: 0.2064 - accuracy: 0.9306 - val_loss: 0.6638 - val_accuracy: 0.7875\n",
            "\n",
            "Epoch 00012: val_loss did not improve from 0.48858\n",
            "Epoch 13/15\n",
            "40/40 [==============================] - 13s 318ms/step - loss: 0.1544 - accuracy: 0.9432 - val_loss: 0.8167 - val_accuracy: 0.7500\n",
            "\n",
            "Epoch 00013: val_loss did not improve from 0.48858\n",
            "Epoch 14/15\n",
            "40/40 [==============================] - 12s 313ms/step - loss: 0.0944 - accuracy: 0.9748 - val_loss: 0.5631 - val_accuracy: 0.8500\n",
            "\n",
            "Epoch 00014: val_loss did not improve from 0.48858\n",
            "Epoch 15/15\n",
            "40/40 [==============================] - 13s 316ms/step - loss: 0.4168 - accuracy: 0.8423 - val_loss: 0.4999 - val_accuracy: 0.8125\n",
            "\n",
            "Epoch 00015: val_loss did not improve from 0.48858\n"
          ],
          "name": "stdout"
        }
      ]
    }
  ]
}